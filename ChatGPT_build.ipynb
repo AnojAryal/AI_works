{
 "cells": [
  {
   "cell_type": "code",
   "execution_count": null,
   "id": "012b91e6",
   "metadata": {},
   "outputs": [],
   "source": [
    "pip install openai"
   ]
  },
  {
   "cell_type": "code",
   "execution_count": null,
   "id": "e7c8a485",
   "metadata": {},
   "outputs": [],
   "source": [
    "import openai\n",
    "import streamlit as st\n",
    "from streamlit_chat import message\n",
    "import os \n",
    "from dotenv import load_dotenv\n",
    "load_dotenv('api_key.env')\n",
    "openai.api_key = os.environ.get('API_KEY')\n",
    "def generate_response(prompt):\n",
    "    completion=openai.Completion.create(\n",
    "        engine='text-davinci-003',\n",
    "        prompt=prompt,\n",
    "        max_tokens=1024,\n",
    "        n=1,\n",
    "        stop=None,\n",
    "        temperature=0.6,\n",
    "    )\n",
    "    message=completion.choices[0].text\n",
    "    return message\n"
   ]
  },
  {
   "cell_type": "code",
   "execution_count": null,
   "id": "33d732fa",
   "metadata": {},
   "outputs": [],
   "source": [
    "st.title(\"ChatGPT-like Web App\")\n",
    "#storing the chat\n",
    "if 'generated' not in st.session_state:\n",
    "    st.session_state['generated'] = []\n",
    "if 'past' not in st.session_state:\n",
    "    st.session_state['past'] = []\n",
    "user_input=st.text_input(\"You:\",key='input')\n",
    "if user_input:\n",
    "    output=generate_response(user_input)\n",
    "    #store the output\n",
    "    st.session_state['past'].append(user_input)\n",
    "    st.session_state['generated'].append(output)\n",
    "if st.session_state['generated']:\n",
    "    for i in range(len(st.session_state['generated'])-1, -1, -1):\n",
    "        message(st.session_state[\"generated\"][i], key=str(i))\n",
    "        message(st.session_state['past'][i], is_user=True, key=str(i) + '_user')"
   ]
  }
 ],
 "metadata": {
  "kernelspec": {
   "display_name": "Python 3 (ipykernel)",
   "language": "python",
   "name": "python3"
  },
  "language_info": {
   "codemirror_mode": {
    "name": "ipython",
    "version": 3
   },
   "file_extension": ".py",
   "mimetype": "text/x-python",
   "name": "python",
   "nbconvert_exporter": "python",
   "pygments_lexer": "ipython3",
   "version": "3.11.2"
  }
 },
 "nbformat": 4,
 "nbformat_minor": 5
}
