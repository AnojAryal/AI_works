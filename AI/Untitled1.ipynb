{
 "cells": [
  {
   "cell_type": "code",
   "execution_count": 1,
   "id": "a8be78b1",
   "metadata": {},
   "outputs": [],
   "source": [
    "import cv2"
   ]
  },
  {
   "cell_type": "code",
   "execution_count": 2,
   "id": "c411a97f",
   "metadata": {},
   "outputs": [],
   "source": [
    "def face_filter(filter_link):\n",
    "    face_cascade = cv2.CascadeClassifier(\"data/haarcascade_frontalface_default.xml\")\n",
    "    cam = cv2.VideoCapture(0)\n",
    "    img = cv2.imread(filter_link, cv2.IMREAD_UNCHANGED)\n",
    "    img = cv2.cvtColor(img, cv2.COLOR_BGRA2BGR)\n",
    "\n",
    "    while True:\n",
    "        ret, frame = cam.read()\n",
    "\n",
    "        kernel = (7,7)\n",
    "\n",
    "        blurred = cv2.GaussianBlur(frame, kernel,0)\n",
    "        sharpened = cv2.addWeighted(frame, 1, blurred, 0.5, 0)\n",
    "        color = cv2.bilateralFilter(sharpened, 3, 150, 150)\n",
    "\n",
    "        blurred_img = cv2.GaussianBlur(img, kernel,0)\n",
    "        sharpened_img = cv2.addWeighted(img, 1, blurred_img, 0.5, 0)\n",
    "        color_img = cv2.bilateralFilter(sharpened_img, 3, 150, 150)\n",
    "\n",
    "\n",
    "        faces = face_cascade.detectMultiScale(color, 1.1, 5)\n",
    "\n",
    "        for (x,y,w,h) in faces:\n",
    "            img_resized = cv2.resize(color_img, (w, h))\n",
    "            color[y: y+h, x:x+w] = cv2.addWeighted(color[y: y+h, x:x+w], 1, img_resized, 0.5, 0)\n",
    "\n",
    "        cv2.imshow(\"Face\", color)\n",
    "\n",
    "\n",
    "        key = cv2.waitKey(1)\n",
    "        if key == 27:\n",
    "            break\n",
    "\n",
    "    cam.release()\n",
    "    cv2.destroyAllWindows()"
   ]
  },
  {
   "cell_type": "code",
   "execution_count": null,
   "id": "147db5fa",
   "metadata": {},
   "outputs": [],
   "source": [
    "face_filter(\"img/filter.png\")"
   ]
  },
  {
   "cell_type": "code",
   "execution_count": null,
   "id": "542989e8",
   "metadata": {},
   "outputs": [],
   "source": []
  }
 ],
 "metadata": {
  "kernelspec": {
   "display_name": "Python 3 (ipykernel)",
   "language": "python",
   "name": "python3"
  },
  "language_info": {
   "codemirror_mode": {
    "name": "ipython",
    "version": 3
   },
   "file_extension": ".py",
   "mimetype": "text/x-python",
   "name": "python",
   "nbconvert_exporter": "python",
   "pygments_lexer": "ipython3",
   "version": "3.11.1"
  }
 },
 "nbformat": 4,
 "nbformat_minor": 5
}
