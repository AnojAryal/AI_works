{
 "cells": [
  {
   "cell_type": "code",
   "execution_count": 16,
   "id": "4ac20570",
   "metadata": {},
   "outputs": [],
   "source": [
    "import math\n",
    "\n",
    "def winner(weigts, sample):\n",
    "    \n",
    "    D0=0\n",
    "    D1=1\n",
    "    \n",
    "    for i in range(len(sample)):\n",
    "        D0+D0+math.pow((sample[i]-weights[0][i]),2)\n",
    "        D1+D1+math.pow((sample[i]-weights[1][i]),2)\n",
    "        \n",
    "        if D0>D1:\n",
    "            return 0\n",
    "        else:\n",
    "            return 1\n",
    "        "
   ]
  },
  {
   "cell_type": "code",
   "execution_count": 17,
   "id": "14427625",
   "metadata": {},
   "outputs": [],
   "source": [
    "def update(weights, sample,J,alpha):\n",
    "    \n",
    "    for i in range(len(weights)):\n",
    "        weights[J][i]=weights[J][i]+alpha*(sample[i]-weights[J][i])\n",
    "        \n",
    "        return weights"
   ]
  },
  {
   "cell_type": "code",
   "execution_count": 18,
   "id": "4b830c35",
   "metadata": {},
   "outputs": [],
   "source": [
    "#training\n",
    "\n",
    "T=[[1,1,0,0],\n",
    "  [0,0,0,1],\n",
    "  [1,0,0,0],\n",
    "  [0,0,1,1]]\n",
    "\n",
    "m,n=len(T),len(T[0])\n",
    "\n",
    "weights=[[0.2,0.4,0.3,0.8],\n",
    "        [0.8,0.6,0.7,0.3]]\n",
    "\n",
    "epochs=5\n",
    "alpha=0.5\n",
    "\n",
    "for i in range(epochs):\n",
    "    \n",
    "    for j in range(m):\n",
    "        sample=T[j]\n",
    "        J=winner(weights,sample)\n",
    "        weights=update(weights,sample,J,alpha)"
   ]
  },
  {
   "cell_type": "code",
   "execution_count": 19,
   "id": "65e7d80a",
   "metadata": {},
   "outputs": [
    {
     "name": "stdout",
     "output_type": "stream",
     "text": [
      "winner clusters : 1\n",
      "Final weights : [[0.2, 0.4, 0.3, 0.8], [0.3333337783813477, 0.6, 0.7, 0.3]]\n"
     ]
    }
   ],
   "source": [
    "s=[1,1,1,1]\n",
    "J=winner(weights,s)\n",
    "\n",
    "print(\"winner clusters :\",J)\n",
    "print(\"Final weights :\",weights)"
   ]
  },
  {
   "cell_type": "code",
   "execution_count": null,
   "id": "3cd06097",
   "metadata": {},
   "outputs": [],
   "source": []
  }
 ],
 "metadata": {
  "kernelspec": {
   "display_name": "Python 3 (ipykernel)",
   "language": "python",
   "name": "python3"
  },
  "language_info": {
   "codemirror_mode": {
    "name": "ipython",
    "version": 3
   },
   "file_extension": ".py",
   "mimetype": "text/x-python",
   "name": "python",
   "nbconvert_exporter": "python",
   "pygments_lexer": "ipython3",
   "version": "3.11.2"
  }
 },
 "nbformat": 4,
 "nbformat_minor": 5
}
